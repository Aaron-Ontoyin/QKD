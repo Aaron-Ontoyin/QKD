{
 "cells": [
  {
   "cell_type": "markdown",
   "metadata": {},
   "source": [
    "# QKD"
   ]
  },
  {
   "cell_type": "markdown",
   "metadata": {},
   "source": [
    "### Key Generation\n",
    "This step serves as the implementation of the generation of the key."
   ]
  },
  {
   "cell_type": "code",
   "execution_count": 25,
   "metadata": {},
   "outputs": [],
   "source": [
    "import cirq\n",
    "from random import choices"
   ]
  },
  {
   "cell_type": "code",
   "execution_count": 35,
   "metadata": {},
   "outputs": [],
   "source": [
    "def gen_bin_key(min_key_length: int) -> str:\n",
    "    \"\"\"\n",
    "    Generate a random key (0's and 1's) not less than a specified length.\n",
    "\n",
    "    Parameters:\n",
    "    - min_key_length (int): The minimum length of the generated key.\n",
    "\n",
    "    Returns:\n",
    "    - str: The generated key if no eavesdropper is detected, otherwise \"There was an eavesdropper!\".\n",
    "\n",
    "    Algorithm:\n",
    "    1. First Person key Generation:\n",
    "        - Generate random bits for the encoder key and encoder bases.\n",
    "        - Create an encoder circuit using Cirq.\n",
    "        - Apply the appropriate gates based on the encoder key and encoder bases to each qubit.\n",
    "    2. Second Person key Reception:\n",
    "        - Generate random bases for the decoder.\n",
    "        - Create a decoder circuit using Cirq.\n",
    "        - Apply the appropriate gates based on the decoder bases to each qubit.\n",
    "        - Measure the qubits and store the measurement results as the second person key.\n",
    "    3. Compare:\n",
    "        - Combine the encoder and decoder circuits into a single BB84 circuit.\n",
    "        - Simulate the circuit using Cirq.\n",
    "        - Retrieve the measurement results for the second person key.\n",
    "        - Compare the encoder and decoder keys based on the matching bases.\n",
    "    4. Convert half of the key:\n",
    "        - Determine the number of bits to compare based on the length of the encoder key.\n",
    "        - If the compared portions of the encoder and decoder keys match, discard the compared portion.\n",
    "        - Return the remaining portion of the encoder key as the final key if no eavesdropper is detected.\n",
    "        - Otherwise, return \"There was an eavesdropper!\".\n",
    "    \"\"\"\n",
    "\n",
    "    # First Person key Generation\n",
    "    encode_gates = {0: cirq.I, 1: cirq.X}\n",
    "    basis_gates = {\"X\": cirq.H, \"Z\": cirq.I}\n",
    "\n",
    "    num_bits = min_key_length * 4 # Excess bits to account for those we use to compare\n",
    "    encoder_key = choices([0, 1], k=num_bits)\n",
    "    encoder_bases = choices([\"Z\", \"X\"], k=num_bits)\n",
    "\n",
    "    encoder_circuit = cirq.Circuit()\n",
    "    qubits = cirq.NamedQubit.range(num_bits, prefix=\"q\")\n",
    "\n",
    "    for bit in range(num_bits):\n",
    "        encode_value = encoder_key[bit]\n",
    "        encode_gate = encode_gates[encode_value]\n",
    "\n",
    "        basis_value = encoder_bases[bit]\n",
    "        basis_gate = basis_gates[basis_value]\n",
    "\n",
    "        qubit = qubits[bit]\n",
    "        encoder_circuit.append(encode_gate(qubit))\n",
    "        encoder_circuit.append(basis_gate(qubit))\n",
    "\n",
    "    # Second Person key Reception\n",
    "    decoder_bases = choices([\"Z\", \"X\"], k=num_bits)\n",
    "\n",
    "    decoder_circuit = cirq.Circuit()\n",
    "    for bit in range(num_bits):\n",
    "        basis_value = decoder_bases[bit]\n",
    "        basis_gate = basis_gates[basis_value]\n",
    "\n",
    "        qubit = qubits[bit]\n",
    "        decoder_circuit.append(basis_gate(qubit))\n",
    "\n",
    "    decoder_circuit.append(cirq.measure(qubits, key=\"second person key\"))\n",
    "\n",
    "    # Compare\n",
    "    bb84_circuit = encoder_circuit + decoder_circuit\n",
    "\n",
    "    sim = cirq.Simulator()\n",
    "    results = sim.run(bb84_circuit)\n",
    "    decoder_key = results.measurements[\"second person key\"][0]\n",
    "\n",
    "    final_encoder_key = []\n",
    "    final_decoder_key = []\n",
    "    for bit in range(num_bits):\n",
    "        if encoder_bases[bit] == decoder_bases[bit]:\n",
    "            final_encoder_key.append(encoder_key[bit])\n",
    "            final_decoder_key.append(decoder_key[bit])\n",
    "\n",
    "    # Convert halve of the key\n",
    "    num_bits_to_compare = int(len(final_encoder_key) * .5)\n",
    "    if final_encoder_key[0:num_bits_to_compare] == final_decoder_key[0:num_bits_to_compare]:\n",
    "        final_encoder_key = final_encoder_key[num_bits_to_compare:]\n",
    "        final_decoder_key = final_decoder_key[num_bits_to_compare:]\n",
    "\n",
    "        return \"\".join(str(bit) for bit in final_encoder_key)\n",
    "\n",
    "    return \"There was an eavesdropper!\"\n"
   ]
  },
  {
   "cell_type": "code",
   "execution_count": 23,
   "metadata": {},
   "outputs": [],
   "source": [
    "def unicode_to_binary(text: str) -> str:\n",
    "    \"\"\"\n",
    "    Convert a unicode string to binary.\n",
    "    \"\"\"\n",
    "    return ''.join(format(ord(char), '08b') for char in text)\n"
   ]
  },
  {
   "cell_type": "code",
   "execution_count": 6,
   "metadata": {},
   "outputs": [],
   "source": [
    "def binary_to_unicode(binary: str) -> str:\n",
    "    \"\"\"\n",
    "    Convert a binary string to a unicode text\n",
    "    \"\"\"\n",
    "    return ''.join([chr(int(binary[i:i+8], 2)) for i in range(0, len(binary), 8)])"
   ]
  },
  {
   "cell_type": "code",
   "execution_count": 80,
   "metadata": {},
   "outputs": [],
   "source": [
    "def encrypt(text: str, key: str) -> str:\n",
    "    \"\"\"\n",
    "    Encrypt a text using a key.\n",
    "\n",
    "    Parameters:\n",
    "    - text (str): The text to encrypt.\n",
    "    - key (str): The key to use for encryption. Should be binary.\n",
    "\n",
    "    Returns:\n",
    "    - str: The encrypted text.\n",
    "    \"\"\"\n",
    "    text = unicode_to_binary(text)\n",
    "    while len(key) < len(text):\n",
    "        key += key\n",
    "\n",
    "    encrypted_text = \"\"\n",
    "    for i in range(len(text)):\n",
    "        encrypted_text += str(int(text[i]) ^ int(key[i]))\n",
    "\n",
    "    return binary_to_unicode(encrypted_text)"
   ]
  },
  {
   "cell_type": "code",
   "execution_count": 89,
   "metadata": {},
   "outputs": [],
   "source": [
    "def decrypt(text: str, key: str) -> str:\n",
    "    \"\"\"\n",
    "    Decrypt a text using a key.\n",
    "\n",
    "    Parameters:\n",
    "    - text (str): The text to decrypt.\n",
    "    - key (str): The key to use for decryption. Should be binary.\n",
    "\n",
    "    Returns:\n",
    "    - str: The decrypted text.\n",
    "    \"\"\"\n",
    "    binary_encrypted_text = unicode_to_binary(text)\n",
    "    while len(key) < len(binary_encrypted_text):\n",
    "        key += key\n",
    "    \n",
    "    decrypted_text = \"\"\n",
    "    for i in range(len(binary_encrypted_text)):\n",
    "        decrypted_text += str(int(binary_encrypted_text[i]) ^ int(key[i]))\n",
    "    \n",
    "    return binary_to_unicode(decrypted_text)"
   ]
  },
  {
   "cell_type": "markdown",
   "metadata": {},
   "source": [
    "### Example Usage"
   ]
  },
  {
   "cell_type": "code",
   "execution_count": 94,
   "metadata": {},
   "outputs": [
    {
     "name": "stdout",
     "output_type": "stream",
     "text": [
      "Message: Hello, World!\n",
      "Key: 100101010001000101000011001110010111011010101111101110110011000011011100100101101000001101010010001101\n",
      "Encrypted text: Ýt/U\u0019g³äï6\u0017\n",
      "Decrypted text: Hello, World!\n"
     ]
    }
   ],
   "source": [
    "msg = \"Hello, World!\"\n",
    "key_strength = 100\n",
    "\n",
    "print(\"Message:\", msg)\n",
    "key = gen_bin_key(key_strength)\n",
    "print(\"Key:\", key)\n",
    "encrypted_text = encrypt(msg, key)\n",
    "print(\"Encrypted text:\", encrypted_text)\n",
    "decrypted_text = decrypt(encrypted_text, key)\n",
    "print(\"Decrypted text:\", decrypted_text)"
   ]
  },
  {
   "cell_type": "code",
   "execution_count": null,
   "metadata": {},
   "outputs": [],
   "source": []
  }
 ],
 "metadata": {
  "kernelspec": {
   "display_name": "venv",
   "language": "python",
   "name": "python3"
  },
  "language_info": {
   "codemirror_mode": {
    "name": "ipython",
    "version": 3
   },
   "file_extension": ".py",
   "mimetype": "text/x-python",
   "name": "python",
   "nbconvert_exporter": "python",
   "pygments_lexer": "ipython3",
   "version": "3.11.2"
  }
 },
 "nbformat": 4,
 "nbformat_minor": 2
}
